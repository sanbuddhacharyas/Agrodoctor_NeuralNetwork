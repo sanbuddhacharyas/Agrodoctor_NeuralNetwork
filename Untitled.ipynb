{
 "cells": [
  {
   "cell_type": "code",
   "execution_count": 1,
   "metadata": {},
   "outputs": [],
   "source": [
    "import numpy as np\n",
    "import cv2\n",
    "import tensorflow as tf\n",
    "import matplotlib.pyplot as plt\n",
    "from cnn_utils import load_dataset, convert_to_one_hot, random_mini_batches\n",
    "from alexnet import AlexNet , make_image_dataset, create_dataset\n",
    "import glob\n",
    "import pandas as pd\n",
    "\n"
   ]
  },
  {
   "cell_type": "code",
   "execution_count": null,
   "metadata": {},
   "outputs": [],
   "source": [
    "\"\"\"\n",
    "X = np.load('images/image9.npy')\n",
    "Y = np.load('images/Y9.npy')\n",
    "\n",
    "X_train = X[:1000,:,:,:]\n",
    "Y_train = Y[:,:1000]\n",
    "\n",
    "X_test = X[1000:1495,:,:,:]\n",
    "Y_test = Y[:,1000:1495]\n",
    "\n",
    "#Normalize input dataset\n",
    "\n",
    "X_train = X_train / 255\n",
    "X_test  = X_test  / 255\n",
    "#Creating one-hot for label\n",
    "print(Y_train.shape)\n",
    "print(Y_test.shape)\n",
    "\n",
    "Y_train = convert_to_one_hot(Y_train,10).T\n",
    "Y_test =  convert_to_one_hot(Y_test, 10).T\n",
    "\n",
    "print(X_train.shape)\n",
    "print(X_test.shape)\n",
    "\n",
    "print(Y_train.shape)\n",
    "print(Y_test.shape)\n",
    "\"\"\"\n",
    "images = []\n",
    "m = glob.glob('color/9/*.JPG')\n",
    "\n",
    "for i in range(10):\n",
    "    images.append(cv2.resize(cv2.imread(m[i],cv2.IMREAD_COLOR), (227,227)))\n",
    "    \n",
    "images = np.array(images) / 255\n",
    "\n"
   ]
  },
  {
   "cell_type": "code",
   "execution_count": null,
   "metadata": {},
   "outputs": [],
   "source": [
    "\n",
    "\n",
    "\n",
    "X = tf.placeholder(tf.float32, [None, 227, 227, 3])\n",
    "Y = tf.placeholder(tf.float32 ,[None ,10])\n",
    "keep_prob = tf.placeholder(tf.float32)\n",
    "\n"
   ]
  },
  {
   "cell_type": "code",
   "execution_count": null,
   "metadata": {},
   "outputs": [],
   "source": [
    "#create model with default config ( == no skip_layer and 1000 units in the last layer)\n",
    "model = AlexNet(X, keep_prob, 10, [])\n"
   ]
  },
  {
   "cell_type": "code",
   "execution_count": null,
   "metadata": {},
   "outputs": [],
   "source": [
    "score = model.fc8\n",
    "cost = tf.reduce_mean((tf.nn.softmax_cross_entropy_with_logits_v2(logits=score, labels=Y)))\n",
    "softmax = tf.nn.softmax(score)\n",
    "\n",
    "costs = []\n",
    "optimizer = tf.train.AdamOptimizer(learning_rate = 0.0001).minimize(cost) \n",
    "init = tf.global_variables_initializer()\n",
    "\n",
    "saver = tf.train.Saver()\n",
    "config = tf.ConfigProto()\n",
    "config.gpu_options.allocator_type ='BFC'\n",
    "config.gpu_options.per_process_gpu_memory_fraction = 0.9\n",
    "f= open(\"model.txt\",\"a\")"
   ]
  },
  {
   "cell_type": "code",
   "execution_count": null,
   "metadata": {},
   "outputs": [],
   "source": [
    "\n",
    "\n",
    "#tf.reset_default_graph()\n",
    "with tf.Session() as sess:\n",
    "    #sess.run(init)\n",
    "    #sess.run(model.load_initial_weights(sess))\n",
    "    saver.restore(sess, \"/home/sansii/Desktop/Agro_doctor/checkpoint/model.ckpt\")\n",
    "    seed =0\n",
    "    \n",
    "    for i in range(20):\n",
    "        seed = seed + 1\n",
    "        k=0\n",
    "        a=0\n",
    "        for j in range(14):        \n",
    "            if k ==0:\n",
    "                X_train = np.load(\"images/image\"+str(a)+\".npy\")\n",
    "                Y_train = np.load(\"images/Y\"+str(a)+\".npy\")\n",
    "                X_train = X_train / 255\n",
    "                Y_train = convert_to_one_hot(Y_train,10).T\n",
    "                assert(Y_train.shape[0] == X_train.shape[0])\n",
    "                \n",
    "                X_train = X_train[:1000,:,:,:]\n",
    "                Y_train = Y_train[:1000,:]\n",
    "                minibatch_cost = 0\n",
    "                num_minibatch = int(1000 / 5)# number of batches\n",
    "                k = 1\n",
    "            else:\n",
    "                X_train = np.load(\"images/image\"+str(a)+\".npy\")\n",
    "                Y_train = np.load(\"images/Y\"+str(a)+\".npy\")\n",
    "                X_train = X_train / 255\n",
    "                Y_train = convert_to_one_hot(Y_train,10).T\n",
    "                assert(Y_train.shape[0] == X_train.shape[0])\n",
    "                \n",
    "                X_train = X_train[1000:1495,:,:,:]\n",
    "                Y_train = Y_train[1000:1495,:]\n",
    "                minibatch_cost = 0\n",
    "                num_minibatch = int(495 / 5)# number of batches\n",
    "                k = 0\n",
    "                a += 1\n",
    "            \n",
    "            minibatches = random_mini_batches(X_train, Y_train, 5 , seed)\n",
    "            for minibatch in minibatches:\n",
    "                X_batches ,Y_batches = minibatch\n",
    "                #Use cost and optimizer to run \n",
    "                _,c = sess.run([optimizer,cost], {X:X_batches , Y:Y_batches, keep_prob:1})\n",
    "\n",
    "                minibatch_cost += c\n",
    "                #print(model.w1.eval())\n",
    "            print(str(j)+\"===>\"+str(X_train.shape)+\"  a===>\"+str(a))\n",
    "            minibatch_cost = minibatch_cost / num_minibatch\n",
    "            costs.append(minibatch_cost)\n",
    "            print(\"Cost \"+str(i*10+j)+\"===>\"+str(minibatch_cost))\n",
    "            f.write(\"Cost \"+str(i*10+j)+\"===>\"+str(minibatch_cost))\n",
    "            \n",
    "        save_path = saver.save(sess, \"/home/sansii/Desktop/Agro_doctor/checkpoint/model.ckpt\")\n",
    "        print(\"Model saved in path: %s\" % save_path)\n",
    "        \n",
    "    plt.plot(np.squeeze(costs))\n",
    "    plt.ylabel('cost')\n",
    "    plt.xlabel('epoch')\n",
    "    plt.title('learning_rate'+str(learning_rate))\n",
    "    plt.show()\n",
    "\n",
    "    \n",
    "    #m = sess.run(score,{x:img, keep_prob:1})\n",
    "\n"
   ]
  },
  {
   "cell_type": "code",
   "execution_count": null,
   "metadata": {},
   "outputs": [],
   "source": [
    "with tf.Session() as sess:\n",
    "    sess.run(init)\n",
    "    saver.restore(sess, \"/home/sansii/Desktop/Agro_doctor/checkpoint/model.ckpt\")\n",
    "    #print(sess.run(score, {X:X_train[:100,:,:,:],Y:Y_train[:100,:],keep_prob:1}))\n",
    "    \n",
    "    compare = tf.equal(tf.argmax(score,1),tf.argmax(Y,1))\n",
    "    #tf.cast casts tensor to a newtype\n",
    "    #tf.reduce_mean calulates number of true over entire examples\n",
    "    accuracy = tf.reduce_mean(tf.cast(compare, 'float'))\n",
    "\n",
    "    print(\"Accuracy_train\"+str(accuracy.eval({X:kp,Y:Yp,keep_prob:1})))\n",
    "\n",
    "   # print(\"Accuracy_test\"+str(accuracy.eval({X:X_test[:100,:,:,:],Y:Y_test[:100,:],keep_prob:1})))"
   ]
  },
  {
   "cell_type": "code",
   "execution_count": null,
   "metadata": {},
   "outputs": [],
   "source": [
    "with tf.Session() as sess:\n",
    "    #sess.run(init)\n",
    "    saver.restore(sess, \"/home/sansii/Desktop/Agro_doctor/checkpoint/model.ckpt\")\n",
    "    print(sess.run(softmax,{X:images,keep_prob:1}))\n",
    "\n",
    "   "
   ]
  },
  {
   "cell_type": "code",
   "execution_count": 2,
   "metadata": {},
   "outputs": [],
   "source": [
    "images = make_image_dataset('png_n','full_working')"
   ]
  },
  {
   "cell_type": "code",
   "execution_count": 3,
   "metadata": {},
   "outputs": [],
   "source": [
    "images = np.load('full_working.npy')"
   ]
  },
  {
   "cell_type": "code",
   "execution_count": null,
   "metadata": {},
   "outputs": [],
   "source": [
    "for i in range (100):\n",
    "    cv2.imshow(\"image\",np.array(images[i]))\n",
    "    cv2.waitKey(0)\n",
    "    cv2.destroyAllWindows"
   ]
  },
  {
   "cell_type": "code",
   "execution_count": 4,
   "metadata": {},
   "outputs": [
    {
     "name": "stdout",
     "output_type": "stream",
     "text": [
      "(374,)\n"
     ]
    }
   ],
   "source": [
    "images = np.array(images)\n",
    "print(images.shape)\n"
   ]
  },
  {
   "cell_type": "code",
   "execution_count": null,
   "metadata": {},
   "outputs": [],
   "source": [
    "cv2.imshow('images',images[0])\n",
    "cv2.waitKey(0)"
   ]
  },
  {
   "cell_type": "code",
   "execution_count": null,
   "metadata": {},
   "outputs": [],
   "source": [
    "print(data.shape)\n",
    "print(Y.shape)"
   ]
  },
  {
   "cell_type": "code",
   "execution_count": null,
   "metadata": {},
   "outputs": [],
   "source": [
    "print(Y)"
   ]
  },
  {
   "cell_type": "code",
   "execution_count": null,
   "metadata": {},
   "outputs": [],
   "source": [
    "cv2.imshow(\"image\",one[0])\n",
    "cv2.waitKey(0)"
   ]
  },
  {
   "cell_type": "code",
   "execution_count": null,
   "metadata": {},
   "outputs": [],
   "source": [
    "cv2.close()"
   ]
  },
  {
   "cell_type": "code",
   "execution_count": null,
   "metadata": {},
   "outputs": [],
   "source": [
    "np.random.seed(0)\n",
    "a = np.arange(5)\n",
    "\n",
    "b = np.array([[[10,20]],[[30,40]],[[50,60]],[[70,80]],[[90,100]]])\n",
    "print(\"a\"+str(a))\n",
    "print(\"b\"+str(b))\n",
    "X, y = shuffle(a, b, random_state=0)\n",
    "np.random.shuffle(a)\n",
    "np.random.seed(0)\n",
    "np.random.shuffle(b)\n",
    "print(\"after\")\n",
    "print(\"X\"+str(X))\n",
    "print(\"Y\"+str(y))\n",
    "\n",
    "print(\"a\"+str(a))\n",
    "print(\"b\"+str(b))\n"
   ]
  },
  {
   "cell_type": "code",
   "execution_count": null,
   "metadata": {},
   "outputs": [],
   "source": [
    "a\n",
    "m = np.append([[[1,2,3,4],[10,20,30,40]]],[[[5,6,7,8],[30,50,40,60]]],axis=0)\n",
    "k =np.append(a,b)\n",
    "\n",
    "print(k)\n",
    "print(m)"
   ]
  },
  {
   "cell_type": "code",
   "execution_count": null,
   "metadata": {},
   "outputs": [],
   "source": [
    "m = np.array([1 ,2 ,3])\n",
    "m = 1\n",
    "print(m)"
   ]
  },
  {
   "cell_type": "code",
   "execution_count": null,
   "metadata": {},
   "outputs": [],
   "source": [
    "dictionary = {'virus':[\"tobacoo_mosic_virsu\",\"black_spot\"],\n",
    "             'humidity':[0.5 ,0.6],\n",
    "             'PH':[0.7 , 0.8]}"
   ]
  },
  {
   "cell_type": "code",
   "execution_count": null,
   "metadata": {},
   "outputs": [],
   "source": [
    "df = pd.DataFrame(dictionary)\n"
   ]
  },
  {
   "cell_type": "code",
   "execution_count": null,
   "metadata": {},
   "outputs": [],
   "source": [
    "df"
   ]
  },
  {
   "cell_type": "code",
   "execution_count": null,
   "metadata": {},
   "outputs": [],
   "source": [
    "images =[]\n",
    "for i in range(337):\n",
    "    cv2.imread(\"png_n/\")\n",
    "    \n",
    "    \n",
    "    "
   ]
  }
 ],
 "metadata": {
  "kernelspec": {
   "display_name": "Python 3",
   "language": "python",
   "name": "python3"
  },
  "language_info": {
   "codemirror_mode": {
    "name": "ipython",
    "version": 3
   },
   "file_extension": ".py",
   "mimetype": "text/x-python",
   "name": "python",
   "nbconvert_exporter": "python",
   "pygments_lexer": "ipython3",
   "version": "3.6.7"
  }
 },
 "nbformat": 4,
 "nbformat_minor": 2
}
