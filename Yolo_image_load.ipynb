{
 "cells": [
  {
   "cell_type": "code",
   "execution_count": null,
   "metadata": {},
   "outputs": [],
   "source": [
    "import cv2\n",
    "from darkflow.net.build import TFNet\n",
    "import matplotlib.pyplot as plt\n",
    "#Setting vector graphics than raster graphics\n",
    "%config InlineBackend.figure_format ='svg'"
   ]
  },
  {
   "cell_type": "code",
   "execution_count": null,
   "metadata": {},
   "outputs": [],
   "source": [
    "#Define options dictionary to load weights , cfg ect\n",
    "options ={\n",
    "    'model' : 'cfg/tiny-yolo-voc.cfg',\n",
    "    'load' : 'bin/tiny-yolo-voc.weights',\n",
    "    'threshold': 0.3,\n",
    "    'gpu' : 0\n",
    "    }\n",
    "\n",
    "\n",
    "#create object of model TFnet\n",
    "tfnet = TFNet(options)"
   ]
  },
  {
   "cell_type": "code",
   "execution_count": null,
   "metadata": {},
   "outputs": [],
   "source": [
    "img = cv2.imread('dog.jpg',cv2.IMREAD_COLOR)\n",
    "img = cv2.cvtColor(img,cv2.COLOR_BGR2RGB)\n",
    "result = tfnet.return_predict(img)\n",
    "#Creating Bounding box around predicted value\n",
    "print(result)\n",
    "tl = (result[0]['topleft']['x'], result[0]['topleft']['y'])\n",
    "br = (result[0]['bottomright']['x'], result[0]['bottomright']['y'])\n",
    "label = result[0]['label']\n",
    "print(tl)\n"
   ]
  },
  {
   "cell_type": "code",
   "execution_count": null,
   "metadata": {},
   "outputs": [],
   "source": [
    "#creaing bounding box around detected object\n",
    "\n",
    "img = cv2.rectangle(img, tl, br,(255 ,0 ,0), 5)\n",
    "img = cv2.putText(img, label,tl, cv2.FONT_HERSHEY_DUPLEX, 1, (0 , 0 ,0),2 )\n",
    "fig , ax = plt.subplots(1)\n",
    "ax.imshow(img)\n",
    "plt.show()"
   ]
  },
  {
   "cell_type": "code",
   "execution_count": null,
   "metadata": {},
   "outputs": [],
   "source": [
    "options ={\n",
    "    'model' : 'cfg/tiny-yolo-voc.cfg',\n",
    "    'load' : 'bin/tiny-yolo-voc.weights',\n",
    "    'threshold': 0.2,\n",
    "    'gpu' : 0\n",
    "    }\n",
    "\n",
    "\n",
    "tfnet = TFNet(options)\n",
    "\n",
    "cap = cv2.VideoCapture(0)\n",
    "\n",
    "while True:\n",
    "    ret, frame  = cap.read(cv2.IMREAD_COLOR)\n",
    "    if ret == True:\n",
    "        frame = cv2.cvtColor(frame, cv2.COLOR_BGR2RGB)\n",
    "        result = tfnet.return_predict(frame)\n",
    "\n",
    "        if not result == []:\n",
    "            tl = (result[0]['topleft']['x'], result[0]['topleft']['y'])\n",
    "            br = (result[0]['bottomright']['x'], result[0]['bottomright']['y'])\n",
    "            label = result[0]['label']\n",
    "\n",
    "\n",
    "            frame = cv2.rectangle(frame, tl, br, (255, 0 , 0), 5)\n",
    "            frame = cv2.putText(frame, label, tl, cv2.FONT_HERSHEY_DUPLEX,1, (0,0,0),2)\n",
    "        cv2.imshow('image',frame)\n",
    "        K = cv2.waitKey(10)\n",
    "        if K == 27:\n",
    "            cap.release()\n",
    "            cv2.destroyAllWindows()\n",
    "\n",
    "    \n",
    "    "
   ]
  },
  {
   "cell_type": "code",
   "execution_count": null,
   "metadata": {},
   "outputs": [],
   "source": [
    "cap.release()\n",
    "cv2.destroyAllWindows()"
   ]
  },
  {
   "cell_type": "code",
   "execution_count": null,
   "metadata": {},
   "outputs": [],
   "source": []
  },
  {
   "cell_type": "code",
   "execution_count": null,
   "metadata": {},
   "outputs": [],
   "source": []
  }
 ],
 "metadata": {
  "kernelspec": {
   "display_name": "Python 3",
   "language": "python",
   "name": "python3"
  },
  "language_info": {
   "codemirror_mode": {
    "name": "ipython",
    "version": 3
   },
   "file_extension": ".py",
   "mimetype": "text/x-python",
   "name": "python",
   "nbconvert_exporter": "python",
   "pygments_lexer": "ipython3",
   "version": "3.6.6"
  }
 },
 "nbformat": 4,
 "nbformat_minor": 2
}
